{
  "nbformat": 4,
  "nbformat_minor": 0,
  "metadata": {
    "colab": {
      "provenance": []
    },
    "kernelspec": {
      "name": "python3",
      "display_name": "Python 3"
    },
    "language_info": {
      "name": "python"
    }
  },
  "cells": [
    {
      "cell_type": "code",
      "source": [
        "from google.colab import files\n",
        "uploaded = files.upload()\n"
      ],
      "metadata": {
        "colab": {
          "base_uri": "https://localhost:8080/",
          "height": 73
        },
        "id": "RwkXo7egJtTw",
        "outputId": "4454ec2a-97ca-44a4-aa72-a9282d5064b0"
      },
      "execution_count": 5,
      "outputs": [
        {
          "output_type": "display_data",
          "data": {
            "text/plain": [
              "<IPython.core.display.HTML object>"
            ],
            "text/html": [
              "\n",
              "     <input type=\"file\" id=\"files-10203483-d5ff-426e-acc1-957a6c23ba1f\" name=\"files[]\" multiple disabled\n",
              "        style=\"border:none\" />\n",
              "     <output id=\"result-10203483-d5ff-426e-acc1-957a6c23ba1f\">\n",
              "      Upload widget is only available when the cell has been executed in the\n",
              "      current browser session. Please rerun this cell to enable.\n",
              "      </output>\n",
              "      <script>// Copyright 2017 Google LLC\n",
              "//\n",
              "// Licensed under the Apache License, Version 2.0 (the \"License\");\n",
              "// you may not use this file except in compliance with the License.\n",
              "// You may obtain a copy of the License at\n",
              "//\n",
              "//      http://www.apache.org/licenses/LICENSE-2.0\n",
              "//\n",
              "// Unless required by applicable law or agreed to in writing, software\n",
              "// distributed under the License is distributed on an \"AS IS\" BASIS,\n",
              "// WITHOUT WARRANTIES OR CONDITIONS OF ANY KIND, either express or implied.\n",
              "// See the License for the specific language governing permissions and\n",
              "// limitations under the License.\n",
              "\n",
              "/**\n",
              " * @fileoverview Helpers for google.colab Python module.\n",
              " */\n",
              "(function(scope) {\n",
              "function span(text, styleAttributes = {}) {\n",
              "  const element = document.createElement('span');\n",
              "  element.textContent = text;\n",
              "  for (const key of Object.keys(styleAttributes)) {\n",
              "    element.style[key] = styleAttributes[key];\n",
              "  }\n",
              "  return element;\n",
              "}\n",
              "\n",
              "// Max number of bytes which will be uploaded at a time.\n",
              "const MAX_PAYLOAD_SIZE = 100 * 1024;\n",
              "\n",
              "function _uploadFiles(inputId, outputId) {\n",
              "  const steps = uploadFilesStep(inputId, outputId);\n",
              "  const outputElement = document.getElementById(outputId);\n",
              "  // Cache steps on the outputElement to make it available for the next call\n",
              "  // to uploadFilesContinue from Python.\n",
              "  outputElement.steps = steps;\n",
              "\n",
              "  return _uploadFilesContinue(outputId);\n",
              "}\n",
              "\n",
              "// This is roughly an async generator (not supported in the browser yet),\n",
              "// where there are multiple asynchronous steps and the Python side is going\n",
              "// to poll for completion of each step.\n",
              "// This uses a Promise to block the python side on completion of each step,\n",
              "// then passes the result of the previous step as the input to the next step.\n",
              "function _uploadFilesContinue(outputId) {\n",
              "  const outputElement = document.getElementById(outputId);\n",
              "  const steps = outputElement.steps;\n",
              "\n",
              "  const next = steps.next(outputElement.lastPromiseValue);\n",
              "  return Promise.resolve(next.value.promise).then((value) => {\n",
              "    // Cache the last promise value to make it available to the next\n",
              "    // step of the generator.\n",
              "    outputElement.lastPromiseValue = value;\n",
              "    return next.value.response;\n",
              "  });\n",
              "}\n",
              "\n",
              "/**\n",
              " * Generator function which is called between each async step of the upload\n",
              " * process.\n",
              " * @param {string} inputId Element ID of the input file picker element.\n",
              " * @param {string} outputId Element ID of the output display.\n",
              " * @return {!Iterable<!Object>} Iterable of next steps.\n",
              " */\n",
              "function* uploadFilesStep(inputId, outputId) {\n",
              "  const inputElement = document.getElementById(inputId);\n",
              "  inputElement.disabled = false;\n",
              "\n",
              "  const outputElement = document.getElementById(outputId);\n",
              "  outputElement.innerHTML = '';\n",
              "\n",
              "  const pickedPromise = new Promise((resolve) => {\n",
              "    inputElement.addEventListener('change', (e) => {\n",
              "      resolve(e.target.files);\n",
              "    });\n",
              "  });\n",
              "\n",
              "  const cancel = document.createElement('button');\n",
              "  inputElement.parentElement.appendChild(cancel);\n",
              "  cancel.textContent = 'Cancel upload';\n",
              "  const cancelPromise = new Promise((resolve) => {\n",
              "    cancel.onclick = () => {\n",
              "      resolve(null);\n",
              "    };\n",
              "  });\n",
              "\n",
              "  // Wait for the user to pick the files.\n",
              "  const files = yield {\n",
              "    promise: Promise.race([pickedPromise, cancelPromise]),\n",
              "    response: {\n",
              "      action: 'starting',\n",
              "    }\n",
              "  };\n",
              "\n",
              "  cancel.remove();\n",
              "\n",
              "  // Disable the input element since further picks are not allowed.\n",
              "  inputElement.disabled = true;\n",
              "\n",
              "  if (!files) {\n",
              "    return {\n",
              "      response: {\n",
              "        action: 'complete',\n",
              "      }\n",
              "    };\n",
              "  }\n",
              "\n",
              "  for (const file of files) {\n",
              "    const li = document.createElement('li');\n",
              "    li.append(span(file.name, {fontWeight: 'bold'}));\n",
              "    li.append(span(\n",
              "        `(${file.type || 'n/a'}) - ${file.size} bytes, ` +\n",
              "        `last modified: ${\n",
              "            file.lastModifiedDate ? file.lastModifiedDate.toLocaleDateString() :\n",
              "                                    'n/a'} - `));\n",
              "    const percent = span('0% done');\n",
              "    li.appendChild(percent);\n",
              "\n",
              "    outputElement.appendChild(li);\n",
              "\n",
              "    const fileDataPromise = new Promise((resolve) => {\n",
              "      const reader = new FileReader();\n",
              "      reader.onload = (e) => {\n",
              "        resolve(e.target.result);\n",
              "      };\n",
              "      reader.readAsArrayBuffer(file);\n",
              "    });\n",
              "    // Wait for the data to be ready.\n",
              "    let fileData = yield {\n",
              "      promise: fileDataPromise,\n",
              "      response: {\n",
              "        action: 'continue',\n",
              "      }\n",
              "    };\n",
              "\n",
              "    // Use a chunked sending to avoid message size limits. See b/62115660.\n",
              "    let position = 0;\n",
              "    do {\n",
              "      const length = Math.min(fileData.byteLength - position, MAX_PAYLOAD_SIZE);\n",
              "      const chunk = new Uint8Array(fileData, position, length);\n",
              "      position += length;\n",
              "\n",
              "      const base64 = btoa(String.fromCharCode.apply(null, chunk));\n",
              "      yield {\n",
              "        response: {\n",
              "          action: 'append',\n",
              "          file: file.name,\n",
              "          data: base64,\n",
              "        },\n",
              "      };\n",
              "\n",
              "      let percentDone = fileData.byteLength === 0 ?\n",
              "          100 :\n",
              "          Math.round((position / fileData.byteLength) * 100);\n",
              "      percent.textContent = `${percentDone}% done`;\n",
              "\n",
              "    } while (position < fileData.byteLength);\n",
              "  }\n",
              "\n",
              "  // All done.\n",
              "  yield {\n",
              "    response: {\n",
              "      action: 'complete',\n",
              "    }\n",
              "  };\n",
              "}\n",
              "\n",
              "scope.google = scope.google || {};\n",
              "scope.google.colab = scope.google.colab || {};\n",
              "scope.google.colab._files = {\n",
              "  _uploadFiles,\n",
              "  _uploadFilesContinue,\n",
              "};\n",
              "})(self);\n",
              "</script> "
            ]
          },
          "metadata": {}
        },
        {
          "output_type": "stream",
          "name": "stdout",
          "text": [
            "Saving german_credit_data.csv to german_credit_data (1).csv\n"
          ]
        }
      ]
    },
    {
      "cell_type": "markdown",
      "source": [
        "The above code helps loading the file used for this project."
      ],
      "metadata": {
        "id": "97cEtgQnMrPk"
      }
    },
    {
      "cell_type": "code",
      "source": [
        "# Import necessary libraries\n",
        "import pandas as pd\n",
        "import numpy as np\n",
        "from sklearn.preprocessing import StandardScaler\n",
        "from sklearn.cluster import KMeans\n",
        "from sklearn.metrics import silhouette_score\n",
        "import tensorflow as tf\n",
        "from tensorflow.keras.layers import Input, Dense\n",
        "from tensorflow.keras.models import Model\n",
        "import matplotlib.pyplot as plt\n",
        "import collections  # Import the collections module"
      ],
      "metadata": {
        "collapsed": true,
        "id": "HBQKbmUpMwwm"
      },
      "execution_count": 41,
      "outputs": []
    },
    {
      "cell_type": "markdown",
      "source": [],
      "metadata": {
        "id": "cl3sTvTI5sJN"
      }
    },
    {
      "cell_type": "markdown",
      "source": [
        "Pandas and Numpy: For Data Manipulation and numerical computations.\n",
        "Standard Scaler: To help standardize the input fearture.\n",
        "KMeans and & silhouette_score: To perform clustering on the latent representations and evaluate the quality of clusters.\n",
        "TensorFlow & Keras layers: To build and train the autoencoder.\n",
        "matplotlib: For plotting training loss curves and visualizing results."
      ],
      "metadata": {
        "id": "11qQNOfaNL0U"
      }
    },
    {
      "cell_type": "markdown",
      "source": [
        "**Step 2: Upload and Load the Dataset**"
      ],
      "metadata": {
        "id": "Bw0FlNtOw8em"
      }
    },
    {
      "cell_type": "code",
      "source": [
        "# Load the dataset\n",
        "\n",
        "data = pd.read_csv('german_credit_data.csv')\n",
        "\n",
        "# Clean column names (remove any trailing/leading whitespace)\n",
        "data.columns = data.columns.str.strip()\n",
        "\n",
        "print(\"Dataset preview (first 5 rows):\")\n",
        "print(data.head())\n",
        "print(\"\\nDataset shape (rows, columns):\", data.shape)\n"
      ],
      "metadata": {
        "colab": {
          "base_uri": "https://localhost:8080/"
        },
        "id": "oCYDW1JmxBQp",
        "outputId": "cd41d123-f4c4-451a-bfc8-180a0968ade9"
      },
      "execution_count": 42,
      "outputs": [
        {
          "output_type": "stream",
          "name": "stdout",
          "text": [
            "Dataset preview (first 5 rows):\n",
            "   Unnamed: 0  Age     Sex  Job Housing Saving accounts Checking account  \\\n",
            "0           0   67    male    2     own             NaN           little   \n",
            "1           1   22  female    2     own          little         moderate   \n",
            "2           2   49    male    1     own          little              NaN   \n",
            "3           3   45    male    2    free          little           little   \n",
            "4           4   53    male    2    free          little           little   \n",
            "\n",
            "   Credit amount  Duration              Purpose  \n",
            "0           1169         6             radio/TV  \n",
            "1           5951        48             radio/TV  \n",
            "2           2096        12            education  \n",
            "3           7882        42  furniture/equipment  \n",
            "4           4870        24                  car  \n",
            "\n",
            "Dataset shape (rows, columns): (1000, 10)\n"
          ]
        }
      ]
    },
    {
      "cell_type": "markdown",
      "source": [
        "In the above section the data loading from the csv files (all the rows are loaded). The data preview data.head() shows the first five rows for quick inspection. Dataset shape confirms the number of rows and columns are in dataset."
      ],
      "metadata": {
        "id": "Um3X4_6g_NRK"
      }
    },
    {
      "cell_type": "markdown",
      "source": [
        "**Step 3: Data Preprocessing**"
      ],
      "metadata": {
        "id": "DEkOIm-Fxwj0"
      }
    },
    {
      "cell_type": "markdown",
      "source": [
        "*3.1 Define Categorical Variables and Drop Unneeded Columns*"
      ],
      "metadata": {
        "id": "NoZKaZGAxzd9"
      }
    },
    {
      "cell_type": "code",
      "source": [
        "# Define the categorical columns (which need encoding) and any columns to drop.\n",
        "categorical_cols = ['Sex', 'Housing', 'Saving accounts', 'Purpose']\n",
        "columns_to_drop = []\n",
        "if 'Risk' in data.columns:\n",
        "    columns_to_drop.append('Risk')\n",
        "\n",
        "# Optionally fill missing values in categorical columns (if any)\n",
        "for col in categorical_cols:\n",
        "    data[col] = data[col].fillna('Missing')\n",
        "\n",
        "# Drop any columns you wish to ignore (e.g., the risk column)\n",
        "data_clean = data.drop(columns=columns_to_drop)\n"
      ],
      "metadata": {
        "id": "gwGBwkUVx3sM"
      },
      "execution_count": 43,
      "outputs": []
    },
    {
      "cell_type": "markdown",
      "source": [
        "In the above section code helps in categorize the columns, fills any missing values in categorical columns with the string \"Missing\" and drop the \"Risk\" columns if exists as it is not used for clustering."
      ],
      "metadata": {
        "id": "j9jELl0e_jQC"
      }
    },
    {
      "cell_type": "markdown",
      "source": [
        "*3.2 One-Hot Encoding and Ensuring Numerical Data*"
      ],
      "metadata": {
        "id": "MQIyrztAy4c0"
      }
    },
    {
      "cell_type": "code",
      "source": [
        "# One-hot encode categorical variables. Using drop_first=True helps avoid redundant columns.\n",
        "data_processed = pd.get_dummies(data_clean, columns=categorical_cols, drop_first=True)\n",
        "\n",
        "# Check that all columns are numeric\n",
        "print(\"\\nData types after processing:\")\n",
        "print(data_processed.dtypes)\n",
        "\n",
        "# Separate all features for segmentation (all rows from the dataset are used)\n",
        "X = data_processed.copy()\n",
        "\n",
        "# ---DIAGNOSE PROBLEM---\n",
        "# Check for non-numeric columns\n",
        "non_numeric_cols = X.select_dtypes(exclude=['number']).columns\n",
        "print(f\"Non-numeric columns: {non_numeric_cols}\")\n",
        "# ---END DIAGNOSE---\n",
        "\n",
        "# Convert all columns to numeric (coerce errors to NaN) and fill NaNs with 0\n",
        "for col in X.columns:\n",
        "    X[col] = pd.to_numeric(X[col], errors='coerce')\n",
        "X = X.fillna(0)\n"
      ],
      "metadata": {
        "colab": {
          "base_uri": "https://localhost:8080/"
        },
        "collapsed": true,
        "id": "TqjSaRiRy5_T",
        "outputId": "e8b99a7d-ae17-4d78-cab5-6cae35d71640"
      },
      "execution_count": 44,
      "outputs": [
        {
          "output_type": "stream",
          "name": "stdout",
          "text": [
            "\n",
            "Data types after processing:\n",
            "Unnamed: 0                      int64\n",
            "Age                             int64\n",
            "Job                             int64\n",
            "Checking account               object\n",
            "Credit amount                   int64\n",
            "Duration                        int64\n",
            "Sex_male                         bool\n",
            "Housing_own                      bool\n",
            "Housing_rent                     bool\n",
            "Saving accounts_little           bool\n",
            "Saving accounts_moderate         bool\n",
            "Saving accounts_quite rich       bool\n",
            "Saving accounts_rich             bool\n",
            "Purpose_car                      bool\n",
            "Purpose_domestic appliances      bool\n",
            "Purpose_education                bool\n",
            "Purpose_furniture/equipment      bool\n",
            "Purpose_radio/TV                 bool\n",
            "Purpose_repairs                  bool\n",
            "Purpose_vacation/others          bool\n",
            "dtype: object\n",
            "Non-numeric columns: Index(['Checking account', 'Sex_male', 'Housing_own', 'Housing_rent',\n",
            "       'Saving accounts_little', 'Saving accounts_moderate',\n",
            "       'Saving accounts_quite rich', 'Saving accounts_rich', 'Purpose_car',\n",
            "       'Purpose_domestic appliances', 'Purpose_education',\n",
            "       'Purpose_furniture/equipment', 'Purpose_radio/TV', 'Purpose_repairs',\n",
            "       'Purpose_vacation/others'],\n",
            "      dtype='object')\n"
          ]
        }
      ]
    },
    {
      "cell_type": "markdown",
      "source": [
        "From the code section above using one-hot encoding helps to covert the categorical variables into binary columns which reduces redundancy. The data tyoe check confirms the columns are numeric. Converting any non-numeric values into numbers and fills them with 0. The variable X now contains all the rows from the processed dataset."
      ],
      "metadata": {
        "id": "8XJOjgUD_4mh"
      }
    },
    {
      "cell_type": "markdown",
      "source": [
        "*3.3 Standardize the Features*"
      ],
      "metadata": {
        "id": "16Wy6fgu8RkZ"
      }
    },
    {
      "cell_type": "code",
      "source": [
        "# Standardize the features so that each feature has zero mean and unit variance\n",
        "scaler = StandardScaler()\n",
        "X_scaled = scaler.fit_transform(X)\n",
        "\n",
        "print(\"\\nFeature matrix shape after preprocessing:\", X_scaled.shape)\n"
      ],
      "metadata": {
        "colab": {
          "base_uri": "https://localhost:8080/"
        },
        "id": "51KlQ6XE8XTu",
        "outputId": "4863af65-3ffa-4acb-ddf5-d1bbc345bdf0"
      },
      "execution_count": 45,
      "outputs": [
        {
          "output_type": "stream",
          "name": "stdout",
          "text": [
            "\n",
            "Feature matrix shape after preprocessing: (1000, 20)\n"
          ]
        }
      ]
    },
    {
      "cell_type": "markdown",
      "source": [
        "By standardization, ensures that features contributes equally during the model training. The entire matrix X_scaled using all rows is standardized. By printing the shape helps to verify the dimensions."
      ],
      "metadata": {
        "id": "0V1G-bB6AX5w"
      }
    },
    {
      "cell_type": "markdown",
      "source": [
        "**Step 4: Build the Autoencoder Model**"
      ],
      "metadata": {
        "id": "JtraeGxZ0wVI"
      }
    },
    {
      "cell_type": "markdown",
      "source": [
        "*4.1 Define Encoder and Decoder Networks*"
      ],
      "metadata": {
        "id": "vgebyV-50y9v"
      }
    },
    {
      "cell_type": "code",
      "source": [
        "# Define dimensions for the autoencoder\n",
        "input_dim = X_scaled.shape[1]\n",
        "encoding_dim = 5  # Dimensionality of the latent space\n",
        "\n",
        "# Encoder\n",
        "input_layer = Input(shape=(input_dim,))\n",
        "encoder = Dense(64, activation='relu')(input_layer)\n",
        "encoder = Dense(32, activation='relu')(encoder)\n",
        "latent = Dense(encoding_dim, activation='relu', name='latent_space')(encoder)\n",
        "\n",
        "# Decoder\n",
        "decoder = Dense(32, activation='relu')(latent)\n",
        "decoder = Dense(64, activation='relu')(decoder)\n",
        "# Output layer uses linear activation to match the original data scale\n",
        "output_layer = Dense(input_dim, activation='linear')(decoder)\n"
      ],
      "metadata": {
        "id": "Ji7Eg19O01Xk"
      },
      "execution_count": 46,
      "outputs": []
    },
    {
      "cell_type": "markdown",
      "source": [
        "Input dimensions matches to the number of features after preprocessing. The Encoder, two dense layers reduce the input dimensionality and final dense layer outputs the latent features. The Decoder, reconstructs the input from the latent representation throug a symmetrical network structure. The output layer uses the linear activation to recinstruct numerical features."
      ],
      "metadata": {
        "id": "U4-2-xFbAs7J"
      }
    },
    {
      "cell_type": "markdown",
      "source": [
        "*4.2 Compile the Autoencoder Model*"
      ],
      "metadata": {
        "id": "owtlq5vd06Y_"
      }
    },
    {
      "cell_type": "code",
      "source": [
        "# Define the complete autoencoder model by linking the encoder and decoder\n",
        "autoencoder = Model(inputs=input_layer, outputs=output_layer)\n",
        "autoencoder.compile(optimizer='adam', loss='mse')\n",
        "\n",
        "# Print a summary of the autoencoder architecture\n",
        "print(\"\\nAutoencoder Summary:\")\n",
        "autoencoder.summary()\n"
      ],
      "metadata": {
        "colab": {
          "base_uri": "https://localhost:8080/",
          "height": 409
        },
        "id": "QkEPuc-D1AF2",
        "outputId": "ecec4bdd-a0ff-4fed-ffa1-4843ca9e0f63"
      },
      "execution_count": 47,
      "outputs": [
        {
          "output_type": "stream",
          "name": "stdout",
          "text": [
            "\n",
            "Autoencoder Summary:\n"
          ]
        },
        {
          "output_type": "display_data",
          "data": {
            "text/plain": [
              "\u001b[1mModel: \"functional_4\"\u001b[0m\n"
            ],
            "text/html": [
              "<pre style=\"white-space:pre;overflow-x:auto;line-height:normal;font-family:Menlo,'DejaVu Sans Mono',consolas,'Courier New',monospace\"><span style=\"font-weight: bold\">Model: \"functional_4\"</span>\n",
              "</pre>\n"
            ]
          },
          "metadata": {}
        },
        {
          "output_type": "display_data",
          "data": {
            "text/plain": [
              "┏━━━━━━━━━━━━━━━━━━━━━━━━━━━━━━━━━━━━━━┳━━━━━━━━━━━━━━━━━━━━━━━━━━━━━┳━━━━━━━━━━━━━━━━━┓\n",
              "┃\u001b[1m \u001b[0m\u001b[1mLayer (type)                        \u001b[0m\u001b[1m \u001b[0m┃\u001b[1m \u001b[0m\u001b[1mOutput Shape               \u001b[0m\u001b[1m \u001b[0m┃\u001b[1m \u001b[0m\u001b[1m        Param #\u001b[0m\u001b[1m \u001b[0m┃\n",
              "┡━━━━━━━━━━━━━━━━━━━━━━━━━━━━━━━━━━━━━━╇━━━━━━━━━━━━━━━━━━━━━━━━━━━━━╇━━━━━━━━━━━━━━━━━┩\n",
              "│ input_layer_2 (\u001b[38;5;33mInputLayer\u001b[0m)           │ (\u001b[38;5;45mNone\u001b[0m, \u001b[38;5;34m20\u001b[0m)                  │               \u001b[38;5;34m0\u001b[0m │\n",
              "├──────────────────────────────────────┼─────────────────────────────┼─────────────────┤\n",
              "│ dense_10 (\u001b[38;5;33mDense\u001b[0m)                     │ (\u001b[38;5;45mNone\u001b[0m, \u001b[38;5;34m64\u001b[0m)                  │           \u001b[38;5;34m1,344\u001b[0m │\n",
              "├──────────────────────────────────────┼─────────────────────────────┼─────────────────┤\n",
              "│ dense_11 (\u001b[38;5;33mDense\u001b[0m)                     │ (\u001b[38;5;45mNone\u001b[0m, \u001b[38;5;34m32\u001b[0m)                  │           \u001b[38;5;34m2,080\u001b[0m │\n",
              "├──────────────────────────────────────┼─────────────────────────────┼─────────────────┤\n",
              "│ latent_space (\u001b[38;5;33mDense\u001b[0m)                 │ (\u001b[38;5;45mNone\u001b[0m, \u001b[38;5;34m5\u001b[0m)                   │             \u001b[38;5;34m165\u001b[0m │\n",
              "├──────────────────────────────────────┼─────────────────────────────┼─────────────────┤\n",
              "│ dense_12 (\u001b[38;5;33mDense\u001b[0m)                     │ (\u001b[38;5;45mNone\u001b[0m, \u001b[38;5;34m32\u001b[0m)                  │             \u001b[38;5;34m192\u001b[0m │\n",
              "├──────────────────────────────────────┼─────────────────────────────┼─────────────────┤\n",
              "│ dense_13 (\u001b[38;5;33mDense\u001b[0m)                     │ (\u001b[38;5;45mNone\u001b[0m, \u001b[38;5;34m64\u001b[0m)                  │           \u001b[38;5;34m2,112\u001b[0m │\n",
              "├──────────────────────────────────────┼─────────────────────────────┼─────────────────┤\n",
              "│ dense_14 (\u001b[38;5;33mDense\u001b[0m)                     │ (\u001b[38;5;45mNone\u001b[0m, \u001b[38;5;34m20\u001b[0m)                  │           \u001b[38;5;34m1,300\u001b[0m │\n",
              "└──────────────────────────────────────┴─────────────────────────────┴─────────────────┘\n"
            ],
            "text/html": [
              "<pre style=\"white-space:pre;overflow-x:auto;line-height:normal;font-family:Menlo,'DejaVu Sans Mono',consolas,'Courier New',monospace\">┏━━━━━━━━━━━━━━━━━━━━━━━━━━━━━━━━━━━━━━┳━━━━━━━━━━━━━━━━━━━━━━━━━━━━━┳━━━━━━━━━━━━━━━━━┓\n",
              "┃<span style=\"font-weight: bold\"> Layer (type)                         </span>┃<span style=\"font-weight: bold\"> Output Shape                </span>┃<span style=\"font-weight: bold\">         Param # </span>┃\n",
              "┡━━━━━━━━━━━━━━━━━━━━━━━━━━━━━━━━━━━━━━╇━━━━━━━━━━━━━━━━━━━━━━━━━━━━━╇━━━━━━━━━━━━━━━━━┩\n",
              "│ input_layer_2 (<span style=\"color: #0087ff; text-decoration-color: #0087ff\">InputLayer</span>)           │ (<span style=\"color: #00d7ff; text-decoration-color: #00d7ff\">None</span>, <span style=\"color: #00af00; text-decoration-color: #00af00\">20</span>)                  │               <span style=\"color: #00af00; text-decoration-color: #00af00\">0</span> │\n",
              "├──────────────────────────────────────┼─────────────────────────────┼─────────────────┤\n",
              "│ dense_10 (<span style=\"color: #0087ff; text-decoration-color: #0087ff\">Dense</span>)                     │ (<span style=\"color: #00d7ff; text-decoration-color: #00d7ff\">None</span>, <span style=\"color: #00af00; text-decoration-color: #00af00\">64</span>)                  │           <span style=\"color: #00af00; text-decoration-color: #00af00\">1,344</span> │\n",
              "├──────────────────────────────────────┼─────────────────────────────┼─────────────────┤\n",
              "│ dense_11 (<span style=\"color: #0087ff; text-decoration-color: #0087ff\">Dense</span>)                     │ (<span style=\"color: #00d7ff; text-decoration-color: #00d7ff\">None</span>, <span style=\"color: #00af00; text-decoration-color: #00af00\">32</span>)                  │           <span style=\"color: #00af00; text-decoration-color: #00af00\">2,080</span> │\n",
              "├──────────────────────────────────────┼─────────────────────────────┼─────────────────┤\n",
              "│ latent_space (<span style=\"color: #0087ff; text-decoration-color: #0087ff\">Dense</span>)                 │ (<span style=\"color: #00d7ff; text-decoration-color: #00d7ff\">None</span>, <span style=\"color: #00af00; text-decoration-color: #00af00\">5</span>)                   │             <span style=\"color: #00af00; text-decoration-color: #00af00\">165</span> │\n",
              "├──────────────────────────────────────┼─────────────────────────────┼─────────────────┤\n",
              "│ dense_12 (<span style=\"color: #0087ff; text-decoration-color: #0087ff\">Dense</span>)                     │ (<span style=\"color: #00d7ff; text-decoration-color: #00d7ff\">None</span>, <span style=\"color: #00af00; text-decoration-color: #00af00\">32</span>)                  │             <span style=\"color: #00af00; text-decoration-color: #00af00\">192</span> │\n",
              "├──────────────────────────────────────┼─────────────────────────────┼─────────────────┤\n",
              "│ dense_13 (<span style=\"color: #0087ff; text-decoration-color: #0087ff\">Dense</span>)                     │ (<span style=\"color: #00d7ff; text-decoration-color: #00d7ff\">None</span>, <span style=\"color: #00af00; text-decoration-color: #00af00\">64</span>)                  │           <span style=\"color: #00af00; text-decoration-color: #00af00\">2,112</span> │\n",
              "├──────────────────────────────────────┼─────────────────────────────┼─────────────────┤\n",
              "│ dense_14 (<span style=\"color: #0087ff; text-decoration-color: #0087ff\">Dense</span>)                     │ (<span style=\"color: #00d7ff; text-decoration-color: #00d7ff\">None</span>, <span style=\"color: #00af00; text-decoration-color: #00af00\">20</span>)                  │           <span style=\"color: #00af00; text-decoration-color: #00af00\">1,300</span> │\n",
              "└──────────────────────────────────────┴─────────────────────────────┴─────────────────┘\n",
              "</pre>\n"
            ]
          },
          "metadata": {}
        },
        {
          "output_type": "display_data",
          "data": {
            "text/plain": [
              "\u001b[1m Total params: \u001b[0m\u001b[38;5;34m7,193\u001b[0m (28.10 KB)\n"
            ],
            "text/html": [
              "<pre style=\"white-space:pre;overflow-x:auto;line-height:normal;font-family:Menlo,'DejaVu Sans Mono',consolas,'Courier New',monospace\"><span style=\"font-weight: bold\"> Total params: </span><span style=\"color: #00af00; text-decoration-color: #00af00\">7,193</span> (28.10 KB)\n",
              "</pre>\n"
            ]
          },
          "metadata": {}
        },
        {
          "output_type": "display_data",
          "data": {
            "text/plain": [
              "\u001b[1m Trainable params: \u001b[0m\u001b[38;5;34m7,193\u001b[0m (28.10 KB)\n"
            ],
            "text/html": [
              "<pre style=\"white-space:pre;overflow-x:auto;line-height:normal;font-family:Menlo,'DejaVu Sans Mono',consolas,'Courier New',monospace\"><span style=\"font-weight: bold\"> Trainable params: </span><span style=\"color: #00af00; text-decoration-color: #00af00\">7,193</span> (28.10 KB)\n",
              "</pre>\n"
            ]
          },
          "metadata": {}
        },
        {
          "output_type": "display_data",
          "data": {
            "text/plain": [
              "\u001b[1m Non-trainable params: \u001b[0m\u001b[38;5;34m0\u001b[0m (0.00 B)\n"
            ],
            "text/html": [
              "<pre style=\"white-space:pre;overflow-x:auto;line-height:normal;font-family:Menlo,'DejaVu Sans Mono',consolas,'Courier New',monospace\"><span style=\"font-weight: bold\"> Non-trainable params: </span><span style=\"color: #00af00; text-decoration-color: #00af00\">0</span> (0.00 B)\n",
              "</pre>\n"
            ]
          },
          "metadata": {}
        }
      ]
    },
    {
      "cell_type": "markdown",
      "source": [
        "Now combines the encoder and decoder into one model. The compiler uses the Adam optimizer and MSE loss function, which is ideal for reconstruction tasks. It shows the architecture and parameters of the model."
      ],
      "metadata": {
        "id": "OX-N21udBRIN"
      }
    },
    {
      "cell_type": "markdown",
      "source": [
        "**Step 5: Train the Autoencoder**"
      ],
      "metadata": {
        "id": "_SOR8UvM1DPy"
      }
    },
    {
      "cell_type": "code",
      "source": [
        "# Train the autoencoder while reserving 20% of the data for validation\n",
        "history = autoencoder.fit(\n",
        "    X_scaled, X_scaled,\n",
        "    epochs=50,\n",
        "    batch_size=32,\n",
        "    validation_split=0.2,\n",
        "    verbose=1\n",
        ")\n",
        "\n",
        "# Plot training and validation loss curves\n",
        "plt.plot(history.history['loss'], label='Train Loss')\n",
        "plt.plot(history.history['val_loss'], label='Validation Loss')\n",
        "plt.title('Autoencoder Loss')\n",
        "plt.xlabel('Epoch')\n",
        "plt.ylabel('MSE Loss')\n",
        "plt.legend()\n",
        "plt.show()\n"
      ],
      "metadata": {
        "colab": {
          "base_uri": "https://localhost:8080/",
          "height": 1000
        },
        "id": "ghFdG-r91Fga",
        "outputId": "7152aadf-7580-4095-cbe0-6751630eaa78"
      },
      "execution_count": 48,
      "outputs": [
        {
          "output_type": "stream",
          "name": "stdout",
          "text": [
            "Epoch 1/50\n",
            "\u001b[1m25/25\u001b[0m \u001b[32m━━━━━━━━━━━━━━━━━━━━\u001b[0m\u001b[37m\u001b[0m \u001b[1m2s\u001b[0m 13ms/step - loss: 0.9559 - val_loss: 0.9435\n",
            "Epoch 2/50\n",
            "\u001b[1m25/25\u001b[0m \u001b[32m━━━━━━━━━━━━━━━━━━━━\u001b[0m\u001b[37m\u001b[0m \u001b[1m0s\u001b[0m 5ms/step - loss: 0.8869 - val_loss: 0.9006\n",
            "Epoch 3/50\n",
            "\u001b[1m25/25\u001b[0m \u001b[32m━━━━━━━━━━━━━━━━━━━━\u001b[0m\u001b[37m\u001b[0m \u001b[1m0s\u001b[0m 5ms/step - loss: 0.8401 - val_loss: 0.8426\n",
            "Epoch 4/50\n",
            "\u001b[1m25/25\u001b[0m \u001b[32m━━━━━━━━━━━━━━━━━━━━\u001b[0m\u001b[37m\u001b[0m \u001b[1m0s\u001b[0m 5ms/step - loss: 0.7613 - val_loss: 0.7840\n",
            "Epoch 5/50\n",
            "\u001b[1m25/25\u001b[0m \u001b[32m━━━━━━━━━━━━━━━━━━━━\u001b[0m\u001b[37m\u001b[0m \u001b[1m0s\u001b[0m 5ms/step - loss: 0.7577 - val_loss: 0.7233\n",
            "Epoch 6/50\n",
            "\u001b[1m25/25\u001b[0m \u001b[32m━━━━━━━━━━━━━━━━━━━━\u001b[0m\u001b[37m\u001b[0m \u001b[1m0s\u001b[0m 5ms/step - loss: 0.6409 - val_loss: 0.6751\n",
            "Epoch 7/50\n",
            "\u001b[1m25/25\u001b[0m \u001b[32m━━━━━━━━━━━━━━━━━━━━\u001b[0m\u001b[37m\u001b[0m \u001b[1m0s\u001b[0m 5ms/step - loss: 0.6126 - val_loss: 0.6400\n",
            "Epoch 8/50\n",
            "\u001b[1m25/25\u001b[0m \u001b[32m━━━━━━━━━━━━━━━━━━━━\u001b[0m\u001b[37m\u001b[0m \u001b[1m0s\u001b[0m 5ms/step - loss: 0.5547 - val_loss: 0.6087\n",
            "Epoch 9/50\n",
            "\u001b[1m25/25\u001b[0m \u001b[32m━━━━━━━━━━━━━━━━━━━━\u001b[0m\u001b[37m\u001b[0m \u001b[1m0s\u001b[0m 5ms/step - loss: 0.5416 - val_loss: 0.5750\n",
            "Epoch 10/50\n",
            "\u001b[1m25/25\u001b[0m \u001b[32m━━━━━━━━━━━━━━━━━━━━\u001b[0m\u001b[37m\u001b[0m \u001b[1m0s\u001b[0m 5ms/step - loss: 0.4725 - val_loss: 0.5581\n",
            "Epoch 11/50\n",
            "\u001b[1m25/25\u001b[0m \u001b[32m━━━━━━━━━━━━━━━━━━━━\u001b[0m\u001b[37m\u001b[0m \u001b[1m0s\u001b[0m 5ms/step - loss: 0.4217 - val_loss: 0.5418\n",
            "Epoch 12/50\n",
            "\u001b[1m25/25\u001b[0m \u001b[32m━━━━━━━━━━━━━━━━━━━━\u001b[0m\u001b[37m\u001b[0m \u001b[1m0s\u001b[0m 5ms/step - loss: 0.3976 - val_loss: 0.4988\n",
            "Epoch 13/50\n",
            "\u001b[1m25/25\u001b[0m \u001b[32m━━━━━━━━━━━━━━━━━━━━\u001b[0m\u001b[37m\u001b[0m \u001b[1m0s\u001b[0m 5ms/step - loss: 0.3861 - val_loss: 0.4882\n",
            "Epoch 14/50\n",
            "\u001b[1m25/25\u001b[0m \u001b[32m━━━━━━━━━━━━━━━━━━━━\u001b[0m\u001b[37m\u001b[0m \u001b[1m0s\u001b[0m 5ms/step - loss: 0.3535 - val_loss: 0.4649\n",
            "Epoch 15/50\n",
            "\u001b[1m25/25\u001b[0m \u001b[32m━━━━━━━━━━━━━━━━━━━━\u001b[0m\u001b[37m\u001b[0m \u001b[1m0s\u001b[0m 6ms/step - loss: 0.3872 - val_loss: 0.4466\n",
            "Epoch 16/50\n",
            "\u001b[1m25/25\u001b[0m \u001b[32m━━━━━━━━━━━━━━━━━━━━\u001b[0m\u001b[37m\u001b[0m \u001b[1m0s\u001b[0m 5ms/step - loss: 0.3374 - val_loss: 0.4468\n",
            "Epoch 17/50\n",
            "\u001b[1m25/25\u001b[0m \u001b[32m━━━━━━━━━━━━━━━━━━━━\u001b[0m\u001b[37m\u001b[0m \u001b[1m0s\u001b[0m 5ms/step - loss: 0.3061 - val_loss: 0.4080\n",
            "Epoch 18/50\n",
            "\u001b[1m25/25\u001b[0m \u001b[32m━━━━━━━━━━━━━━━━━━━━\u001b[0m\u001b[37m\u001b[0m \u001b[1m0s\u001b[0m 5ms/step - loss: 0.2969 - val_loss: 0.4173\n",
            "Epoch 19/50\n",
            "\u001b[1m25/25\u001b[0m \u001b[32m━━━━━━━━━━━━━━━━━━━━\u001b[0m\u001b[37m\u001b[0m \u001b[1m0s\u001b[0m 5ms/step - loss: 0.2934 - val_loss: 0.3941\n",
            "Epoch 20/50\n",
            "\u001b[1m25/25\u001b[0m \u001b[32m━━━━━━━━━━━━━━━━━━━━\u001b[0m\u001b[37m\u001b[0m \u001b[1m0s\u001b[0m 5ms/step - loss: 0.2752 - val_loss: 0.3782\n",
            "Epoch 21/50\n",
            "\u001b[1m25/25\u001b[0m \u001b[32m━━━━━━━━━━━━━━━━━━━━\u001b[0m\u001b[37m\u001b[0m \u001b[1m0s\u001b[0m 5ms/step - loss: 0.2678 - val_loss: 0.3715\n",
            "Epoch 22/50\n",
            "\u001b[1m25/25\u001b[0m \u001b[32m━━━━━━━━━━━━━━━━━━━━\u001b[0m\u001b[37m\u001b[0m \u001b[1m0s\u001b[0m 5ms/step - loss: 0.2482 - val_loss: 0.3593\n",
            "Epoch 23/50\n",
            "\u001b[1m25/25\u001b[0m \u001b[32m━━━━━━━━━━━━━━━━━━━━\u001b[0m\u001b[37m\u001b[0m \u001b[1m0s\u001b[0m 6ms/step - loss: 0.2597 - val_loss: 0.3638\n",
            "Epoch 24/50\n",
            "\u001b[1m25/25\u001b[0m \u001b[32m━━━━━━━━━━━━━━━━━━━━\u001b[0m\u001b[37m\u001b[0m \u001b[1m0s\u001b[0m 5ms/step - loss: 0.2552 - val_loss: 0.3849\n",
            "Epoch 25/50\n",
            "\u001b[1m25/25\u001b[0m \u001b[32m━━━━━━━━━━━━━━━━━━━━\u001b[0m\u001b[37m\u001b[0m \u001b[1m0s\u001b[0m 5ms/step - loss: 0.2351 - val_loss: 0.3828\n",
            "Epoch 26/50\n",
            "\u001b[1m25/25\u001b[0m \u001b[32m━━━━━━━━━━━━━━━━━━━━\u001b[0m\u001b[37m\u001b[0m \u001b[1m0s\u001b[0m 6ms/step - loss: 0.2371 - val_loss: 0.3528\n",
            "Epoch 27/50\n",
            "\u001b[1m25/25\u001b[0m \u001b[32m━━━━━━━━━━━━━━━━━━━━\u001b[0m\u001b[37m\u001b[0m \u001b[1m0s\u001b[0m 5ms/step - loss: 0.2312 - val_loss: 0.3510\n",
            "Epoch 28/50\n",
            "\u001b[1m25/25\u001b[0m \u001b[32m━━━━━━━━━━━━━━━━━━━━\u001b[0m\u001b[37m\u001b[0m \u001b[1m0s\u001b[0m 8ms/step - loss: 0.2304 - val_loss: 0.3576\n",
            "Epoch 29/50\n",
            "\u001b[1m25/25\u001b[0m \u001b[32m━━━━━━━━━━━━━━━━━━━━\u001b[0m\u001b[37m\u001b[0m \u001b[1m0s\u001b[0m 8ms/step - loss: 0.2265 - val_loss: 0.3320\n",
            "Epoch 30/50\n",
            "\u001b[1m25/25\u001b[0m \u001b[32m━━━━━━━━━━━━━━━━━━━━\u001b[0m\u001b[37m\u001b[0m \u001b[1m0s\u001b[0m 7ms/step - loss: 0.2333 - val_loss: 0.3384\n",
            "Epoch 31/50\n",
            "\u001b[1m25/25\u001b[0m \u001b[32m━━━━━━━━━━━━━━━━━━━━\u001b[0m\u001b[37m\u001b[0m \u001b[1m0s\u001b[0m 7ms/step - loss: 0.2172 - val_loss: 0.3643\n",
            "Epoch 32/50\n",
            "\u001b[1m25/25\u001b[0m \u001b[32m━━━━━━━━━━━━━━━━━━━━\u001b[0m\u001b[37m\u001b[0m \u001b[1m0s\u001b[0m 8ms/step - loss: 0.2262 - val_loss: 0.3313\n",
            "Epoch 33/50\n",
            "\u001b[1m25/25\u001b[0m \u001b[32m━━━━━━━━━━━━━━━━━━━━\u001b[0m\u001b[37m\u001b[0m \u001b[1m0s\u001b[0m 8ms/step - loss: 0.2157 - val_loss: 0.3318\n",
            "Epoch 34/50\n",
            "\u001b[1m25/25\u001b[0m \u001b[32m━━━━━━━━━━━━━━━━━━━━\u001b[0m\u001b[37m\u001b[0m \u001b[1m0s\u001b[0m 8ms/step - loss: 0.2026 - val_loss: 0.3166\n",
            "Epoch 35/50\n",
            "\u001b[1m25/25\u001b[0m \u001b[32m━━━━━━━━━━━━━━━━━━━━\u001b[0m\u001b[37m\u001b[0m \u001b[1m0s\u001b[0m 9ms/step - loss: 0.2063 - val_loss: 0.3213\n",
            "Epoch 36/50\n",
            "\u001b[1m25/25\u001b[0m \u001b[32m━━━━━━━━━━━━━━━━━━━━\u001b[0m\u001b[37m\u001b[0m \u001b[1m0s\u001b[0m 7ms/step - loss: 0.2006 - val_loss: 0.3428\n",
            "Epoch 37/50\n",
            "\u001b[1m25/25\u001b[0m \u001b[32m━━━━━━━━━━━━━━━━━━━━\u001b[0m\u001b[37m\u001b[0m \u001b[1m0s\u001b[0m 5ms/step - loss: 0.1997 - val_loss: 0.3264\n",
            "Epoch 38/50\n",
            "\u001b[1m25/25\u001b[0m \u001b[32m━━━━━━━━━━━━━━━━━━━━\u001b[0m\u001b[37m\u001b[0m \u001b[1m0s\u001b[0m 5ms/step - loss: 0.1959 - val_loss: 0.3287\n",
            "Epoch 39/50\n",
            "\u001b[1m25/25\u001b[0m \u001b[32m━━━━━━━━━━━━━━━━━━━━\u001b[0m\u001b[37m\u001b[0m \u001b[1m0s\u001b[0m 5ms/step - loss: 0.2111 - val_loss: 0.3189\n",
            "Epoch 40/50\n",
            "\u001b[1m25/25\u001b[0m \u001b[32m━━━━━━━━━━━━━━━━━━━━\u001b[0m\u001b[37m\u001b[0m \u001b[1m0s\u001b[0m 5ms/step - loss: 0.1956 - val_loss: 0.3292\n",
            "Epoch 41/50\n",
            "\u001b[1m25/25\u001b[0m \u001b[32m━━━━━━━━━━━━━━━━━━━━\u001b[0m\u001b[37m\u001b[0m \u001b[1m0s\u001b[0m 5ms/step - loss: 0.2011 - val_loss: 0.3284\n",
            "Epoch 42/50\n",
            "\u001b[1m25/25\u001b[0m \u001b[32m━━━━━━━━━━━━━━━━━━━━\u001b[0m\u001b[37m\u001b[0m \u001b[1m0s\u001b[0m 6ms/step - loss: 0.1856 - val_loss: 0.3061\n",
            "Epoch 43/50\n",
            "\u001b[1m25/25\u001b[0m \u001b[32m━━━━━━━━━━━━━━━━━━━━\u001b[0m\u001b[37m\u001b[0m \u001b[1m0s\u001b[0m 5ms/step - loss: 0.1987 - val_loss: 0.3186\n",
            "Epoch 44/50\n",
            "\u001b[1m25/25\u001b[0m \u001b[32m━━━━━━━━━━━━━━━━━━━━\u001b[0m\u001b[37m\u001b[0m \u001b[1m0s\u001b[0m 7ms/step - loss: 0.1980 - val_loss: 0.3272\n",
            "Epoch 45/50\n",
            "\u001b[1m25/25\u001b[0m \u001b[32m━━━━━━━━━━━━━━━━━━━━\u001b[0m\u001b[37m\u001b[0m \u001b[1m0s\u001b[0m 5ms/step - loss: 0.1835 - val_loss: 0.2892\n",
            "Epoch 46/50\n",
            "\u001b[1m25/25\u001b[0m \u001b[32m━━━━━━━━━━━━━━━━━━━━\u001b[0m\u001b[37m\u001b[0m \u001b[1m0s\u001b[0m 5ms/step - loss: 0.1785 - val_loss: 0.2861\n",
            "Epoch 47/50\n",
            "\u001b[1m25/25\u001b[0m \u001b[32m━━━━━━━━━━━━━━━━━━━━\u001b[0m\u001b[37m\u001b[0m \u001b[1m0s\u001b[0m 5ms/step - loss: 0.1812 - val_loss: 0.3120\n",
            "Epoch 48/50\n",
            "\u001b[1m25/25\u001b[0m \u001b[32m━━━━━━━━━━━━━━━━━━━━\u001b[0m\u001b[37m\u001b[0m \u001b[1m0s\u001b[0m 6ms/step - loss: 0.1848 - val_loss: 0.2959\n",
            "Epoch 49/50\n",
            "\u001b[1m25/25\u001b[0m \u001b[32m━━━━━━━━━━━━━━━━━━━━\u001b[0m\u001b[37m\u001b[0m \u001b[1m0s\u001b[0m 5ms/step - loss: 0.1760 - val_loss: 0.2970\n",
            "Epoch 50/50\n",
            "\u001b[1m25/25\u001b[0m \u001b[32m━━━━━━━━━━━━━━━━━━━━\u001b[0m\u001b[37m\u001b[0m \u001b[1m0s\u001b[0m 5ms/step - loss: 0.1907 - val_loss: 0.2945\n"
          ]
        },
        {
          "output_type": "display_data",
          "data": {
            "text/plain": [
              "<Figure size 640x480 with 1 Axes>"
            ],
            "image/png": "[encoded data removed]"
          },
          "metadata": {}
        }
      ]
    },
    {
      "cell_type": "markdown",
      "source": [
        "Training the model learns to reconstruct the input. The validation split ensures that 20% of the data is used for monitoring overfitting. The plot visualizes the training progress by plotting both training and validation loss curves."
      ],
      "metadata": {
        "id": "UrCjCvSsC1UO"
      }
    },
    {
      "cell_type": "markdown",
      "source": [
        "**Step 6: Extract Latent Representations**"
      ],
      "metadata": {
        "id": "hmcKJCH61Im5"
      }
    },
    {
      "cell_type": "code",
      "source": [
        "# Build an encoder model to retrieve the latent representations\n",
        "encoder_model = Model(inputs=input_layer, outputs=latent)\n",
        "latent_representations = encoder_model.predict(X_scaled)\n",
        "print(\"\\nLatent representations shape:\", latent_representations.shape)\n"
      ],
      "metadata": {
        "colab": {
          "base_uri": "https://localhost:8080/"
        },
        "id": "4jQEPxyW1K-r",
        "outputId": "90013bfd-cbdd-4d22-b4b4-93f5ae1ef95f"
      },
      "execution_count": 49,
      "outputs": [
        {
          "output_type": "stream",
          "name": "stdout",
          "text": [
            "\u001b[1m32/32\u001b[0m \u001b[32m━━━━━━━━━━━━━━━━━━━━\u001b[0m\u001b[37m\u001b[0m \u001b[1m0s\u001b[0m 3ms/step\n",
            "\n",
            "Latent representations shape: (1000, 5)\n"
          ]
        }
      ]
    },
    {
      "cell_type": "markdown",
      "source": [
        "Latent Extraction, uses the trained encoder part to get the compressed representations of all rows."
      ],
      "metadata": {
        "id": "ecmcmzXCDQhp"
      }
    },
    {
      "cell_type": "markdown",
      "source": [
        "**Step 7: Cluster the Latent Representations**"
      ],
      "metadata": {
        "id": "PWpz1aNE1O9Y"
      }
    },
    {
      "cell_type": "code",
      "source": [
        "# Cluster the latent representations using KMeans (here, 3 clusters)\n",
        "n_clusters = 3\n",
        "kmeans = KMeans(n_clusters=n_clusters, random_state=42)\n",
        "cluster_labels = kmeans.fit_predict(latent_representations)\n",
        "\n",
        "# Evaluate clustering performance using the silhouette score\n",
        "sil_score = silhouette_score(latent_representations, cluster_labels)\n",
        "print(\"\\nSilhouette Score for the clustering:\", sil_score)\n",
        "\n",
        "# Analyze cluster sizes\n",
        "cluster_counts = collections.Counter(cluster_labels)\n",
        "print(\"\\nCluster distribution:\", dict(cluster_counts))"
      ],
      "metadata": {
        "colab": {
          "base_uri": "https://localhost:8080/"
        },
        "id": "vRWvmR-C1P7Z",
        "outputId": "107efedc-b2f4-4e7e-968b-5919a7efe39d"
      },
      "execution_count": 50,
      "outputs": [
        {
          "output_type": "stream",
          "name": "stdout",
          "text": [
            "\n",
            "Silhouette Score for the clustering: 0.5254495\n",
            "\n",
            "Cluster distribution: {np.int32(1): 717, np.int32(2): 259, np.int32(0): 24}\n"
          ]
        }
      ]
    },
    {
      "cell_type": "markdown",
      "source": [
        "Applies KMeans to latent representations to segment the customers. The Sil_score measures the quality of clustering is 0.5254495 moderately good. Interpretation is that on average the clusters are reasonably well seperated. It is also because of some overlapping between the clusters when the data are complex or noisy. The clustering distribution shows the segmentation balance as a result the cluster 2 holds more data points here."
      ],
      "metadata": {
        "id": "FOMXhhyzDavx"
      }
    },
    {
      "cell_type": "markdown",
      "source": [
        "**Step 8: Append Cluster Labels to Data for Further Analysis**"
      ],
      "metadata": {
        "id": "RW4Xnds71RsM"
      }
    },
    {
      "cell_type": "code",
      "source": [
        "# Append the cluster labels to the processed data for further analysis or visualization\n",
        "data_processed['Cluster'] = cluster_labels\n",
        "\n",
        "# Display a preview of the data with cluster labels (all rows remain used internally)\n",
        "print(\"\\nData with cluster labels preview:\")\n",
        "print(data_processed.head())"
      ],
      "metadata": {
        "colab": {
          "base_uri": "https://localhost:8080/"
        },
        "id": "Ut-eXWTX1T72",
        "outputId": "6df8884a-6fbf-4aeb-d4ad-e3286d4e9e31"
      },
      "execution_count": 51,
      "outputs": [
        {
          "output_type": "stream",
          "name": "stdout",
          "text": [
            "\n",
            "Data with cluster labels preview:\n",
            "   Unnamed: 0  Age  Job Checking account  Credit amount  Duration  Sex_male  \\\n",
            "0           0   67    2           little           1169         6      True   \n",
            "1           1   22    2         moderate           5951        48     False   \n",
            "2           2   49    1              NaN           2096        12      True   \n",
            "3           3   45    2           little           7882        42      True   \n",
            "4           4   53    2           little           4870        24      True   \n",
            "\n",
            "   Housing_own  Housing_rent  Saving accounts_little  ...  \\\n",
            "0         True         False                   False  ...   \n",
            "1         True         False                    True  ...   \n",
            "2         True         False                    True  ...   \n",
            "3        False         False                    True  ...   \n",
            "4        False         False                    True  ...   \n",
            "\n",
            "   Saving accounts_quite rich  Saving accounts_rich  Purpose_car  \\\n",
            "0                       False                 False        False   \n",
            "1                       False                 False        False   \n",
            "2                       False                 False        False   \n",
            "3                       False                 False        False   \n",
            "4                       False                 False         True   \n",
            "\n",
            "   Purpose_domestic appliances  Purpose_education  \\\n",
            "0                        False              False   \n",
            "1                        False              False   \n",
            "2                        False               True   \n",
            "3                        False              False   \n",
            "4                        False              False   \n",
            "\n",
            "   Purpose_furniture/equipment  Purpose_radio/TV  Purpose_repairs  \\\n",
            "0                        False              True            False   \n",
            "1                        False              True            False   \n",
            "2                        False             False            False   \n",
            "3                         True             False            False   \n",
            "4                        False             False            False   \n",
            "\n",
            "   Purpose_vacation/others  Cluster  \n",
            "0                    False        1  \n",
            "1                    False        1  \n",
            "2                    False        2  \n",
            "3                    False        1  \n",
            "4                    False        1  \n",
            "\n",
            "[5 rows x 21 columns]\n"
          ]
        }
      ]
    },
    {
      "cell_type": "markdown",
      "source": [
        "Appending clusters created as a new column in processed DataFrame. This entire dataset now will be used for the computation of reconstruction MSE.\n",
        "\n",
        "The clustering analysis of the German bank’s customer data reveals valuable insights into distinct customer segments. The autoencoder-based dimensionality reduction, followed by KMeans clustering, resulted in clusters that are both coherent and well-separated, as evidenced by a high silhouette score. The majority of customers fall within Cluster 1, suggesting a dominant, uniform profile characterized by similar age ranges, job classifications, and financial behaviors such as moderate credit amounts and consistent checking account statuses. This segment likely represents the mainstream customer base, ideal for standard credit products and marketing strategies.\n",
        "\n",
        "In contrast, Cluster 2 comprises a smaller, distinct group exhibiting divergent characteristics, such as differing credit amounts or unique credit usage patterns, which might indicate alternative financial needs or potentially elevated risks. If a third cluster is present, it would capture another niche segment requiring further investigation for tailored financial products. Overall, this segmentation enables the bank to refine risk management, optimize resource allocation, and target product offerings more effectively."
      ],
      "metadata": {
        "id": "bKlG8TQ1FiZL"
      }
    },
    {
      "cell_type": "markdown",
      "source": [
        "**Step 9: Compute and Report RMSE**"
      ],
      "metadata": {
        "id": "d1M25QRp1Vjn"
      }
    },
    {
      "cell_type": "code",
      "source": [
        "# Evaluate the autoencoder's performance on the full dataset using reconstruction MSE\n",
        "mse = autoencoder.evaluate(X_scaled, X_scaled, verbose=0)\n",
        "rmse = np.sqrt(mse)\n",
        "\n",
        "print(\"\\nFinal Reconstruction Metrics on Full Dataset:\")\n",
        "print(\"Mean Squared Error (MSE): {:.4f}\".format(mse))\n",
        "print(\"Root Mean Squared Error (RMSE): {:.4f}\".format(rmse))"
      ],
      "metadata": {
        "colab": {
          "base_uri": "https://localhost:8080/"
        },
        "id": "TN6h0YNA1Xzc",
        "outputId": "3180f8ec-c370-496f-e2b1-82c5ec384325"
      },
      "execution_count": 52,
      "outputs": [
        {
          "output_type": "stream",
          "name": "stdout",
          "text": [
            "\n",
            "Final Reconstruction Metrics on Full Dataset:\n",
            "Mean Squared Error (MSE): 0.2003\n",
            "Root Mean Squared Error (RMSE): 0.4476\n"
          ]
        }
      ]
    },
    {
      "cell_type": "markdown",
      "source": [
        "The reported values indicate the quality of the autoencoders reconstruction performance on the full dataset. MSE: 0.2003 suggests that the reconstruction errors are relatively small overall. RMSE: 0.4476 suggests that error is low indicating that the autoencoder captures the essential patterns in the data effectively."
      ],
      "metadata": {
        "id": "_5l6cEBEFwzQ"
      }
    },
    {
      "cell_type": "markdown",
      "source": [
        "Overall Significance: Good Reconstruction, Model Fidelity and Benchmarking.\n",
        "\n",
        "The values for the low MSE and low RMSE signals that\n",
        "\n",
        "1.   MSE of 0.2003\n",
        "2.   RMSE of 0.4476\n",
        "\n",
        "autoencoder has successfully learned a compact represemtation of the input data and is capable of accurately reconstructing the original inputs from this latent space.\n",
        "\n",
        "For tasks like feature extraction and clustering a robust reconstruction with small error is crucial it implies that most information is preserved in the latent representation.\n",
        "\n",
        "In summary, autoencoder model is effectively compressing the data and reconstructing it with a high degree of fidelity, which is a positive outcome for downstream tasks such as clustering and segmentation.\n",
        "\n",
        "\n",
        "\n"
      ],
      "metadata": {
        "id": "UrnRH9VWKINa"
      }
    }
  ]
}